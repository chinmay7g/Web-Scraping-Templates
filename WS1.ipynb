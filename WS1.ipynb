{
 "cells": [
  {
   "cell_type": "code",
   "execution_count": null,
   "metadata": {},
   "outputs": [],
   "source": [
    "# web scraping\n",
    "\n",
    "import scrapy\n",
    "from scrapy.crawler import Crawler.Process\n",
    "\n",
    "class DC_Chapter_Spider(scrapy.Spider):\n",
    "    \n",
    "    name = 'dc_chapter_spider'\n",
    "    \n",
    "    def start_requests(self):\n",
    "        \n",
    "        url = 'https://www.datacamp.com/courses/all'\n",
    "        yield scrapy.Requests( url = url, callback = self.parse_front)\n",
    "        \n",
    "    def parse_front( self, response):\n",
    "        \n",
    "        # go over the course block\n",
    "        course_block = response.css('div.course-block')\n",
    "        \n",
    "        #go over the course links\n",
    "        course_links = course_block.xpath('./a/@href')\n",
    "        \n",
    "        #get the links\n",
    "        \n",
    "        links_to_follow = course_links.extract()\n",
    "        \n",
    "        #passing it on to the next parser\n",
    "        for link in links_to_follow:\n",
    "            yield response.follow( url = url , callback = self.parse_pages)\n",
    "            \n",
    "    def parse_pages(self, response):\n",
    "        \n",
    "        #direct to course title\n",
    "        \n",
    "        crs_title = response.xpath('//h1[contains(@class,\"title\")]/text()')\n",
    "        \n",
    "        #extract and clean \n",
    "        \n",
    "        crs_title_ext = crs_title.extract_first().strip()\n",
    "        \n",
    "        #direct to chapter titles within the h4 \n",
    "        ch_titles = response.css('h4.chapter__title::text')\n",
    "        \n",
    "        #extract and clean chapter titles text\n",
    "        ch_titles_ext = [t.strip() for t in ch_titles.extract() ]\n",
    "        \n",
    "        #storing in dictionary\n",
    "        dc_dict[crs_title_ext] = ch_titles.ext\n",
    "            \n",
    "        \n",
    "            \n",
    "\n",
    "            "
   ]
  }
 ],
 "metadata": {
  "kernelspec": {
   "display_name": "Python 3",
   "language": "python",
   "name": "python3"
  },
  "language_info": {
   "codemirror_mode": {
    "name": "ipython",
    "version": 3
   },
   "file_extension": ".py",
   "mimetype": "text/x-python",
   "name": "python",
   "nbconvert_exporter": "python",
   "pygments_lexer": "ipython3",
   "version": "3.7.3"
  }
 },
 "nbformat": 4,
 "nbformat_minor": 2
}
